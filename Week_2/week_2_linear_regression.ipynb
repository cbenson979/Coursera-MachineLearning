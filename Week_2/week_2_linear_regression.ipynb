{
 "cells": [
  {
   "cell_type": "markdown",
   "metadata": {},
   "source": [
    "## Problem 1: Univariate Linear Regression\n",
    "### Expected restaurant profit as a function of city population\n",
    "\n",
    "This problem is taken from week 2 of the Coursera Machine Learning course by Andrew Ng. The in-class solution was performed in Octave. This workbook is an alternative method of solving in Python.\n",
    "\n",
    "The scenario is as follows: \n",
    "Suppose you are the CEO of a restaurant franchise and are considering different cities for opening a new outlet. The chain already has trucks in various cities and you have data for profits and populations from the cities.\n",
    "You would like to use this data to help you select which city to expand to next.\n",
    "The file ex1data1.txt contains the dataset for our linear regression problem. The first column is the population of a city and the second column is the profit of a food truck in that city. A negative value for profit indicates a loss.\n",
    "\n",
    "\n",
    "### Approach\n",
    "First we will build out a linear regression solution using the linear algebra fundamentals. Then we will use the other pre-made linear regression models in scipy as an alternative."
   ]
  },
  {
   "cell_type": "markdown",
   "metadata": {},
   "source": [
    "## Part 1 - Manually create univariate linear regression analysis using vectorized operations"
   ]
  },
  {
   "cell_type": "code",
   "execution_count": 1,
   "metadata": {},
   "outputs": [],
   "source": [
    "import pandas as pd\n",
    "import numpy as np\n",
    "import matplotlib.pyplot as plt\n",
    "\n",
    "%matplotlib inline  "
   ]
  },
  {
   "cell_type": "markdown",
   "metadata": {},
   "source": [
    "### Load the data using a pandas DataFrame. First column is feature and second is the target"
   ]
  },
  {
   "cell_type": "code",
   "execution_count": 2,
   "metadata": {},
   "outputs": [
    {
     "data": {
      "text/html": [
       "<div>\n",
       "<style scoped>\n",
       "    .dataframe tbody tr th:only-of-type {\n",
       "        vertical-align: middle;\n",
       "    }\n",
       "\n",
       "    .dataframe tbody tr th {\n",
       "        vertical-align: top;\n",
       "    }\n",
       "\n",
       "    .dataframe thead th {\n",
       "        text-align: right;\n",
       "    }\n",
       "</style>\n",
       "<table border=\"1\" class=\"dataframe\">\n",
       "  <thead>\n",
       "    <tr style=\"text-align: right;\">\n",
       "      <th></th>\n",
       "      <th>Population</th>\n",
       "      <th>Expected Profit</th>\n",
       "      <th>Intercept</th>\n",
       "    </tr>\n",
       "  </thead>\n",
       "  <tbody>\n",
       "    <tr>\n",
       "      <th>count</th>\n",
       "      <td>97.000000</td>\n",
       "      <td>97.000000</td>\n",
       "      <td>97.0</td>\n",
       "    </tr>\n",
       "    <tr>\n",
       "      <th>mean</th>\n",
       "      <td>8.159800</td>\n",
       "      <td>5.839135</td>\n",
       "      <td>1.0</td>\n",
       "    </tr>\n",
       "    <tr>\n",
       "      <th>std</th>\n",
       "      <td>3.869884</td>\n",
       "      <td>5.510262</td>\n",
       "      <td>0.0</td>\n",
       "    </tr>\n",
       "    <tr>\n",
       "      <th>min</th>\n",
       "      <td>5.026900</td>\n",
       "      <td>-2.680700</td>\n",
       "      <td>1.0</td>\n",
       "    </tr>\n",
       "    <tr>\n",
       "      <th>25%</th>\n",
       "      <td>5.707700</td>\n",
       "      <td>1.986900</td>\n",
       "      <td>1.0</td>\n",
       "    </tr>\n",
       "    <tr>\n",
       "      <th>50%</th>\n",
       "      <td>6.589400</td>\n",
       "      <td>4.562300</td>\n",
       "      <td>1.0</td>\n",
       "    </tr>\n",
       "    <tr>\n",
       "      <th>75%</th>\n",
       "      <td>8.578100</td>\n",
       "      <td>7.046700</td>\n",
       "      <td>1.0</td>\n",
       "    </tr>\n",
       "    <tr>\n",
       "      <th>max</th>\n",
       "      <td>22.203000</td>\n",
       "      <td>24.147000</td>\n",
       "      <td>1.0</td>\n",
       "    </tr>\n",
       "  </tbody>\n",
       "</table>\n",
       "</div>"
      ],
      "text/plain": [
       "       Population  Expected Profit  Intercept\n",
       "count   97.000000        97.000000       97.0\n",
       "mean     8.159800         5.839135        1.0\n",
       "std      3.869884         5.510262        0.0\n",
       "min      5.026900        -2.680700        1.0\n",
       "25%      5.707700         1.986900        1.0\n",
       "50%      6.589400         4.562300        1.0\n",
       "75%      8.578100         7.046700        1.0\n",
       "max     22.203000        24.147000        1.0"
      ]
     },
     "execution_count": 2,
     "metadata": {},
     "output_type": "execute_result"
    }
   ],
   "source": [
    "path_to_data = './ex1/ex1data1.txt'\n",
    "data = pd.read_csv(path_to_data,names=['Population','Expected Profit'])\n",
    "data['Intercept'] = np.zeros(len(data['Population']))+1 # Add a column for bias, or intercept, feature\n",
    "data.describe()"
   ]
  },
  {
   "cell_type": "markdown",
   "metadata": {},
   "source": [
    "### Define the attributes and targets objects from data set, initialize the attribute vector, $\\theta$"
   ]
  },
  {
   "cell_type": "code",
   "execution_count": 3,
   "metadata": {},
   "outputs": [
    {
     "data": {
      "text/plain": [
       "Text(0,0.5,'Profit in $10,000s')"
      ]
     },
     "execution_count": 3,
     "metadata": {},
     "output_type": "execute_result"
    },
    {
     "data": {
      "image/png": "[encoded data removed]",
      "text/plain": [
       "<matplotlib.figure.Figure at 0x109f3f588>"
      ]
     },
     "metadata": {},
     "output_type": "display_data"
    }
   ],
   "source": [
    "X = data[['Intercept','Population']].values # attributes vector\n",
    "y = data['Expected Profit'].values # expected profit\n",
    "theta  = np.zeros((2,1)) # parameter vector\n",
    "\n",
    "# Visulaize the data with a scatter plot\n",
    "fig,ax = plt.subplots()\n",
    "ax.scatter(X[:,1],y[:],color='b',marker='x')\n",
    "ax.set_xlabel('City Population in 10,000s')\n",
    "ax.set_ylabel('Profit in $10,000s')"
   ]
  },
  {
   "cell_type": "markdown",
   "metadata": {},
   "source": [
    "### Define a function to evaluate the cost function and a function for traditional gradient descent"
   ]
  },
  {
   "cell_type": "code",
   "execution_count": 4,
   "metadata": {},
   "outputs": [],
   "source": [
    "def evaluate_cost_func(X, y, theta):\n",
    "    # number of training data points\n",
    "    m = float(len(y))\n",
    "    J = 1.0/(2*m)*np.sum((np.matmul(np.transpose(theta),np.transpose(X)) - np.transpose(y))**2) # linear alegabra evlaulation of cost function\n",
    "    return J"
   ]
  },
  {
   "cell_type": "code",
   "execution_count": 5,
   "metadata": {},
   "outputs": [],
   "source": [
    "def gradient_descent(X, y, theta, alpha, num_iters):\n",
    "    m = float(len(y))\n",
    "    J_history = []\n",
    "    for iteration in range(num_iters):\n",
    "        theta = theta - (float(alpha)/m)*np.transpose(np.matmul(np.matmul(np.transpose(theta),np.transpose(X)) - np.transpose(y),X))\n",
    "        J_history.append(evaluate_cost_func(X, y, theta))\n",
    "    return theta,J_history"
   ]
  },
  {
   "cell_type": "markdown",
   "metadata": {},
   "source": [
    "### Run univarient linear regression using gradient decent and plot the cost function as a function of iteration number"
   ]
  },
  {
   "cell_type": "code",
   "execution_count": 6,
   "metadata": {},
   "outputs": [
    {
     "name": "stdout",
     "output_type": "stream",
     "text": [
      "Post-decent parameter values: bias = -3.788419261551182, slope = 1.1822480052540147\n"
     ]
    }
   ],
   "source": [
    "num_iter = 1000 # number of iterations in gradient decen\n",
    "alpha = 0.02 # learning rate\n",
    "theta  = np.zeros((2,1)) # parameter vector\n",
    "\n",
    "theta, J_history = gradient_descent(X, y, theta, 0.02, num_iter)\n",
    "print(f\"Post-decent parameter values: bias = {theta[0][0]}, slope = {theta[1][0]}\") "
   ]
  },
  {
   "cell_type": "code",
   "execution_count": 13,
   "metadata": {},
   "outputs": [
    {
     "data": {
      "text/plain": [
       "Text(0.5,0,'Iteration Number [#]')"
      ]
     },
     "execution_count": 13,
     "metadata": {},
     "output_type": "execute_result"
    },
    {
     "data": {
      "image/png": "[encoded data removed]",
      "text/plain": [
       "<matplotlib.figure.Figure at 0x1a1532d588>"
      ]
     },
     "metadata": {},
     "output_type": "display_data"
    }
   ],
   "source": [
    "# Plot the cost function, J, over iteration count\n",
    "fig,ax = plt.subplots()\n",
    "ax.plot(range(num_iter),J_history)\n",
    "ax.set_ylabel('Cost Function')\n",
    "ax.set_xlabel('Iteration Number [#]')"
   ]
  },
  {
   "cell_type": "code",
   "execution_count": 8,
   "metadata": {},
   "outputs": [
    {
     "data": {
      "text/plain": [
       "[<matplotlib.lines.Line2D at 0x1130954e0>]"
      ]
     },
     "execution_count": 8,
     "metadata": {},
     "output_type": "execute_result"
    },
    {
     "data": {
      "image/png": "[encoded data removed]",
      "text/plain": [
       "<matplotlib.figure.Figure at 0x112f505c0>"
      ]
     },
     "metadata": {},
     "output_type": "display_data"
    }
   ],
   "source": [
    "# Plot the linear regression result with the data\n",
    "fig,ax = plt.subplots()\n",
    "ax.scatter(X[:,1],y[:],color='b',marker='x')\n",
    "ax.set_xlabel('City Population in 10,000s')\n",
    "ax.set_ylabel('Profit in $10,000s')\n",
    "\n",
    "fit_x = np.linspace(5,22.5,100)\n",
    "fit_y = theta[0][0] + theta[1][0]*fit_x\n",
    "\n",
    "ax.plot(fit_x,fit_y)"
   ]
  },
  {
   "cell_type": "markdown",
   "metadata": {},
   "source": [
    "## Result\n",
    "\n",
    "The linear regression result looks to fit the data fairly well. We now have a relationship which can be used to determine expected profits as a function of city population. This can be used as one of the pieces of information to help inform a decision as to whether or not a new franchise in a given city should be pursued."
   ]
  },
  {
   "cell_type": "markdown",
   "metadata": {},
   "source": [
    "# Part 2: Solving with linear regression model from scikit-learn"
   ]
  },
  {
   "cell_type": "code",
   "execution_count": 9,
   "metadata": {},
   "outputs": [
    {
     "name": "stdout",
     "output_type": "stream",
     "text": [
      "Scikit-learn Result: intercept = -3.8957808783118537, slope = 1.193033644189594\n"
     ]
    }
   ],
   "source": [
    "from sklearn.linear_model import LinearRegression\n",
    "\n",
    "X_2 = X[:,1:] # we don't need the first column of all ones for this method.\n",
    "\n",
    "# with the data already prepared, we can simply initalize a linear regression object and call fit\n",
    "reg = LinearRegression().fit(X_2, y)\n",
    "\n",
    "print(f\"Scikit-learn Result: intercept = {reg.intercept_}, slope = {reg.coef_[0]}\")"
   ]
  },
  {
   "cell_type": "code",
   "execution_count": 10,
   "metadata": {},
   "outputs": [
    {
     "data": {
      "text/plain": [
       "[<matplotlib.lines.Line2D at 0x1a151d54e0>]"
      ]
     },
     "execution_count": 10,
     "metadata": {},
     "output_type": "execute_result"
    },
    {
     "data": {
      "image/png": "[encoded data removed]",
      "text/plain": [
       "<matplotlib.figure.Figure at 0x1a15199358>"
      ]
     },
     "metadata": {},
     "output_type": "display_data"
    }
   ],
   "source": [
    "# Plot the linear regression result with the data\n",
    "fig,ax = plt.subplots()\n",
    "ax.scatter(X[:,1],y[:],color='b',marker='x')\n",
    "ax.set_xlabel('City Population in 10,000s')\n",
    "ax.set_ylabel('Profit in $10,000s')\n",
    "\n",
    "fit_x = np.linspace(5,22.5,100)\n",
    "fit_y = reg.intercept_ + reg.coef_[0]*fit_x\n",
    "\n",
    "ax.plot(fit_x,fit_y)"
   ]
  },
  {
   "cell_type": "markdown",
   "metadata": {},
   "source": [
    "## Result\n",
    "\n",
    "There is a very small difference between the methods. This provides confidence that our manual linear regression method is working well. \n"
   ]
  }
 ],
 "metadata": {
  "kernelspec": {
   "display_name": "Python 3",
   "language": "python",
   "name": "python3"
  },
  "language_info": {
   "codemirror_mode": {
    "name": "ipython",
    "version": 3
   },
   "file_extension": ".py",
   "mimetype": "text/x-python",
   "name": "python",
   "nbconvert_exporter": "python",
   "pygments_lexer": "ipython3",
   "version": "3.6.8"
  }
 },
 "nbformat": 4,
 "nbformat_minor": 2
}
