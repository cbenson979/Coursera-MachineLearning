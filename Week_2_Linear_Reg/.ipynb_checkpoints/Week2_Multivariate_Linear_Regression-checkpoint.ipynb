{
 "cells": [
  {
   "cell_type": "markdown",
   "metadata": {},
   "source": [
    "## Problem 2: Predicting Portland Housing Prices Using Multivariate Linear Regression Analysis \n",
    "\n",
    "This problem is taken from week 2 of the Coursera Machine Learning course by Andrew Ng. The in-class solution was performed in Octave. This workbook is an alternative method of solving in Python.\n",
    "\n",
    "Consider the following problem statement: Suppose you are selling your house and you want to know what a good market price would be. One way to do this is to first collect information on recent houses sold and make a model of housing prices.\n",
    "The file ex1data2.txt contains a training set of housing prices in Port- land, Oregon. The first column is the size of the house (in square feet), the second column is the number of bedrooms, and the third column is the price of the house.\n",
    "\n",
    "### Approach\n",
    "First we will build out a linear regression solution using the linear algebra fundamentals. Then we will use the other pre-made linear regression models in scipy as an alternative."
   ]
  },
  {
   "cell_type": "markdown",
   "metadata": {},
   "source": [
    "## Part 1 - Manually create univariate linear regression analysis using vectorized operations"
   ]
  },
  {
   "cell_type": "code",
   "execution_count": 7,
   "metadata": {},
   "outputs": [],
   "source": [
    "import pandas as pd\n",
    "import numpy as np\n",
    "import matplotlib.pyplot as plt\n",
    "import seaborn as sns\n",
    "\n",
    "%matplotlib inline  "
   ]
  },
  {
   "cell_type": "markdown",
   "metadata": {},
   "source": [
    "### Load the data using a pandas DataFrame. First column is feature and second is the target"
   ]
  },
  {
   "cell_type": "code",
   "execution_count": 6,
   "metadata": {},
   "outputs": [
    {
     "data": {
      "text/html": [
       "<div>\n",
       "<style scoped>\n",
       "    .dataframe tbody tr th:only-of-type {\n",
       "        vertical-align: middle;\n",
       "    }\n",
       "\n",
       "    .dataframe tbody tr th {\n",
       "        vertical-align: top;\n",
       "    }\n",
       "\n",
       "    .dataframe thead th {\n",
       "        text-align: right;\n",
       "    }\n",
       "</style>\n",
       "<table border=\"1\" class=\"dataframe\">\n",
       "  <thead>\n",
       "    <tr style=\"text-align: right;\">\n",
       "      <th></th>\n",
       "      <th>House Size</th>\n",
       "      <th>Bedrooms</th>\n",
       "      <th>House Price</th>\n",
       "      <th>Intercept</th>\n",
       "    </tr>\n",
       "  </thead>\n",
       "  <tbody>\n",
       "    <tr>\n",
       "      <th>count</th>\n",
       "      <td>47.000000</td>\n",
       "      <td>47.000000</td>\n",
       "      <td>47.000000</td>\n",
       "      <td>47.0</td>\n",
       "    </tr>\n",
       "    <tr>\n",
       "      <th>mean</th>\n",
       "      <td>2000.680851</td>\n",
       "      <td>3.170213</td>\n",
       "      <td>340412.659574</td>\n",
       "      <td>1.0</td>\n",
       "    </tr>\n",
       "    <tr>\n",
       "      <th>std</th>\n",
       "      <td>794.702354</td>\n",
       "      <td>0.760982</td>\n",
       "      <td>125039.899586</td>\n",
       "      <td>0.0</td>\n",
       "    </tr>\n",
       "    <tr>\n",
       "      <th>min</th>\n",
       "      <td>852.000000</td>\n",
       "      <td>1.000000</td>\n",
       "      <td>169900.000000</td>\n",
       "      <td>1.0</td>\n",
       "    </tr>\n",
       "    <tr>\n",
       "      <th>25%</th>\n",
       "      <td>1432.000000</td>\n",
       "      <td>3.000000</td>\n",
       "      <td>249900.000000</td>\n",
       "      <td>1.0</td>\n",
       "    </tr>\n",
       "    <tr>\n",
       "      <th>50%</th>\n",
       "      <td>1888.000000</td>\n",
       "      <td>3.000000</td>\n",
       "      <td>299900.000000</td>\n",
       "      <td>1.0</td>\n",
       "    </tr>\n",
       "    <tr>\n",
       "      <th>75%</th>\n",
       "      <td>2269.000000</td>\n",
       "      <td>4.000000</td>\n",
       "      <td>384450.000000</td>\n",
       "      <td>1.0</td>\n",
       "    </tr>\n",
       "    <tr>\n",
       "      <th>max</th>\n",
       "      <td>4478.000000</td>\n",
       "      <td>5.000000</td>\n",
       "      <td>699900.000000</td>\n",
       "      <td>1.0</td>\n",
       "    </tr>\n",
       "  </tbody>\n",
       "</table>\n",
       "</div>"
      ],
      "text/plain": [
       "        House Size   Bedrooms    House Price  Intercept\n",
       "count    47.000000  47.000000      47.000000       47.0\n",
       "mean   2000.680851   3.170213  340412.659574        1.0\n",
       "std     794.702354   0.760982  125039.899586        0.0\n",
       "min     852.000000   1.000000  169900.000000        1.0\n",
       "25%    1432.000000   3.000000  249900.000000        1.0\n",
       "50%    1888.000000   3.000000  299900.000000        1.0\n",
       "75%    2269.000000   4.000000  384450.000000        1.0\n",
       "max    4478.000000   5.000000  699900.000000        1.0"
      ]
     },
     "execution_count": 6,
     "metadata": {},
     "output_type": "execute_result"
    }
   ],
   "source": [
    "path_to_data = './ex1/ex1data2.txt'\n",
    "data = pd.read_csv(path_to_data,names=['House Size','Bedrooms','House Price'])\n",
    "data['Intercept'] = np.zeros(len(data['House Price']))+1 # Add a column for bias, or intercept, feature\n",
    "data.describe()"
   ]
  },
  {
   "cell_type": "code",
   "execution_count": 16,
   "metadata": {},
   "outputs": [
    {
     "data": {
      "image/png": "[encoded data removed]",
      "text/plain": [
       "<matplotlib.figure.Figure at 0x1a1cd88278>"
      ]
     },
     "metadata": {},
     "output_type": "display_data"
    }
   ],
   "source": [
    "X = data[['Intercept','House Size','Bedrooms']] # attributes vector\n",
    "y = data['House Price'] # expected profit\n",
    "theta  = np.zeros((2,1)) # parameter vector\n",
    "\n",
    "# Create a Seaborn pair plot to visulaize the relationship between the two attributes\n",
    "sns.pairplot(data[['House Size','Bedrooms']]);"
   ]
  },
  {
   "cell_type": "markdown",
   "metadata": {},
   "source": [
    "### Standardizing Features\n",
    "\n",
    "Large difference in the scale of the feature data may cause problems with the linear regression. Lets standardize by subracting off the mean and normalizing by the standard devitation"
   ]
  },
  {
   "cell_type": "code",
   "execution_count": 34,
   "metadata": {},
   "outputs": [],
   "source": [
    "# loop over the attributes we want to standardize\n",
    "X_norm = X[:]\n",
    "# make sure to save the orginial avg and stddev for scaling any prediction inputs later\n",
    "mean = []\n",
    "std_dev = []\n",
    "attributes = ['House Size','Bedrooms']\n",
    "for name in attributes:\n",
    "    mean.append(np.mean(X_norm[name].values))\n",
    "    X_norm[name] = X_norm[name]-mean[-1]\n",
    "    std_dev.append(np.std(X_norm[name].values))\n",
    "    X_norm[name] = X_norm[name]/std_dev[-1]\n",
    "    "
   ]
  },
  {
   "cell_type": "markdown",
   "metadata": {},
   "source": [
    "### Linear Regression and Gradient Decent Function Definitions\n",
    "\n",
    "The vectorized equations developed in the univariate linear regression were general enough to accept multiple features. Re-use these functions."
   ]
  },
  {
   "cell_type": "code",
   "execution_count": 35,
   "metadata": {},
   "outputs": [],
   "source": [
    "def evaluate_cost_func(X, y, theta):\n",
    "    # number of training data points\n",
    "    m = float(len(y))\n",
    "    J = 1.0/(2*m)*np.sum((np.matmul(np.transpose(theta),np.transpose(X)) - np.transpose(y))**2) # linear alegabra evlaulation of cost function\n",
    "    return J"
   ]
  },
  {
   "cell_type": "code",
   "execution_count": 62,
   "metadata": {},
   "outputs": [],
   "source": [
    "def gradient_descent(X, y, theta, alpha, num_iters):\n",
    "    '''\n",
    "    Performs gradient decent method to minimize cost function\n",
    "    '''\n",
    "    m = float(len(y))\n",
    "    J_history = []\n",
    "    for iteration in range(num_iters):\n",
    "        theta = theta - (float(alpha)/m)*np.transpose(np.matmul(np.matmul(np.transpose(theta),np.transpose(X)) - np.transpose(y),X))\n",
    "        J_history.append(evaluate_cost_func(X, y, theta))\n",
    "    return theta,J_history\n"
   ]
  },
  {
   "cell_type": "markdown",
   "metadata": {},
   "source": [
    "### Run the multivariate linear regression"
   ]
  },
  {
   "cell_type": "code",
   "execution_count": 63,
   "metadata": {},
   "outputs": [
    {
     "name": "stdout",
     "output_type": "stream",
     "text": [
      "theta result: [340412.65900156 109439.39158281  -6569.94996733]\n"
     ]
    }
   ],
   "source": [
    "num_iter = 1000 # number of iterations in gradient decen\n",
    "alpha = 0.02 # learning rate\n",
    "theta  = np.zeros((3,1)) # parameter vector\n",
    "\n",
    "theta, J_history = gradient_descent(X_norm.values, y.values, theta, alpha, num_iter)\n",
    "\n",
    "print(f\"theta result: {np.transpose(theta)[0]}\")"
   ]
  },
  {
   "cell_type": "code",
   "execution_count": 64,
   "metadata": {},
   "outputs": [
    {
     "data": {
      "text/plain": [
       "Text(0.5,0,'Iteration Number [#]')"
      ]
     },
     "execution_count": 64,
     "metadata": {},
     "output_type": "execute_result"
    },
    {
     "data": {
      "image/png": "[encoded data removed]",
      "text/plain": [
       "<matplotlib.figure.Figure at 0x1a1d33d7b8>"
      ]
     },
     "metadata": {},
     "output_type": "display_data"
    }
   ],
   "source": [
    "# Plot the cost function, J, over iteration count\n",
    "fig,ax = plt.subplots()\n",
    "ax.plot(range(num_iter),J_history)\n",
    "ax.set_ylabel('Cost Function')\n",
    "ax.set_xlabel('Iteration Number [#]')"
   ]
  },
  {
   "cell_type": "markdown",
   "metadata": {},
   "source": [
    "### Testing the Result\n",
    "\n",
    "Now that we have performed our multivariate linear regression, let's put the model to the test. Provide a predition for the price of a house with 2300 square feet and 4 bedrooms."
   ]
  },
  {
   "cell_type": "code",
   "execution_count": 65,
   "metadata": {},
   "outputs": [],
   "source": [
    "X_prediction = np.ndarray((3,1))\n",
    "X_prediction[0][0] = 1;\n",
    "X_prediction[1][0] = (2300-mean[0])/std_dev[0];\n",
    "X_prediction[2][0] = (4-mean[1])/std_dev[1];"
   ]
  },
  {
   "cell_type": "code",
   "execution_count": 66,
   "metadata": {},
   "outputs": [
    {
     "name": "stdout",
     "output_type": "stream",
     "text": [
      "Prediction - A 2,300 square foot house with 4 bedrooms is estimated to cost $374836.0\n"
     ]
    }
   ],
   "source": [
    "y_predition = np.matmul(np.transpose(theta),X_prediction)\n",
    "print(f\"Prediction - A 2,300 square foot house with 4 bedrooms is estimated to cost ${round(y_predition[0][0],0)}\")"
   ]
  }
 ],
 "metadata": {
  "kernelspec": {
   "display_name": "Python 3",
   "language": "python",
   "name": "python3"
  },
  "language_info": {
   "codemirror_mode": {
    "name": "ipython",
    "version": 3
   },
   "file_extension": ".py",
   "mimetype": "text/x-python",
   "name": "python",
   "nbconvert_exporter": "python",
   "pygments_lexer": "ipython3",
   "version": "3.6.8"
  }
 },
 "nbformat": 4,
 "nbformat_minor": 2
}
