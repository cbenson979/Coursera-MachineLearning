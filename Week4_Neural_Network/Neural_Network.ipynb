{
 "cells": [
  {
   "cell_type": "markdown",
   "metadata": {},
   "source": [
    "# Week 4 - Multiclass (One-vs-All) Logistic Regression and Neural Networks\n",
    "\n",
    "We will use logistic regression and neural networks to recognize handwritten digits (from 0 to 9). Automated handwritten digit recognition is widely used today - from recognizing zip codes (postal codes) on mail envelopes to recognizing amounts written on bank checks. This exercise will show you how the methods you’ve learned can be used for this classification task.\n",
    "\n",
    "The handwritten dataset can be loaded from the .mat files."
   ]
  },
  {
   "cell_type": "code",
   "execution_count": 1,
   "metadata": {},
   "outputs": [],
   "source": [
    "import scipy.io as sio\n",
    "import numpy as np\n",
    "import matplotlib.pyplot as plt"
   ]
  },
  {
   "cell_type": "markdown",
   "metadata": {},
   "source": [
    "The loaded dataset contains 5000 training entries. Each entry is an unrolled 20x20 image (400 pixels in a 1 dimensional vector)."
   ]
  },
  {
   "cell_type": "code",
   "execution_count": 2,
   "metadata": {},
   "outputs": [
    {
     "name": "stdout",
     "output_type": "stream",
     "text": [
      "X size: (5000, 400), y size: (5000, 1)\n"
     ]
    }
   ],
   "source": [
    "# Load the MATLAB/Octave .mat datafile\n",
    "data = sio.loadmat('./ex3/ex3data1.mat')\n",
    "X = data['X']\n",
    "y = data['y']\n",
    "print(f'X size: {X.shape}, y size: {y.shape}')"
   ]
  },
  {
   "cell_type": "markdown",
   "metadata": {},
   "source": [
    "Let's visualize 25 of the training data samples to see what we are dealing with"
   ]
  },
  {
   "cell_type": "code",
   "execution_count": 3,
   "metadata": {},
   "outputs": [
    {
     "data": {
      "image/png": "[encoded data removed]",
      "text/plain": [
       "<matplotlib.figure.Figure at 0x1807a22cc0>"
      ]
     },
     "metadata": {},
     "output_type": "display_data"
    }
   ],
   "source": [
    "nRow = 5\n",
    "nCol = 5\n",
    "fig,ax = plt.subplots(nRow,nCol)\n",
    "for i in range(nRow):\n",
    "    for j in range(nCol):\n",
    "        # Generate random index to select from the dataset\n",
    "        randIndex = int(np.random.rand()*X.shape[0])\n",
    "        ax[i,j].imshow(np.transpose(np.reshape(X[randIndex,:],(20,20))),cmap='gray')"
   ]
  },
  {
   "cell_type": "markdown",
   "metadata": {},
   "source": [
    "The above numbers from the training dataset look pretty reasonable\n",
    "\n",
    "## Using One-vs-All Logistic Regression to Predict Handwritten Digits\n",
    "\n",
    "Lets use scikit-learn's One-vs-All Logistic Regression model for fitting"
   ]
  },
  {
   "cell_type": "code",
   "execution_count": 4,
   "metadata": {},
   "outputs": [],
   "source": [
    "from sklearn.linear_model import LogisticRegression"
   ]
  },
  {
   "cell_type": "code",
   "execution_count": 5,
   "metadata": {},
   "outputs": [
    {
     "name": "stderr",
     "output_type": "stream",
     "text": [
      "/Users/chrisbenson/anaconda3/lib/python3.6/site-packages/sklearn/utils/validation.py:578: DataConversionWarning: A column-vector y was passed when a 1d array was expected. Please change the shape of y to (n_samples, ), for example using ravel().\n",
      "  y = column_or_1d(y, warn=True)\n"
     ]
    },
    {
     "name": "stdout",
     "output_type": "stream",
     "text": [
      "Classes: [ 1  2  3  4  5  6  7  8  9 10]\n"
     ]
    }
   ],
   "source": [
    "clf = LogisticRegression(random_state=0, solver='lbfgs',multi_class='multinomial').fit(X, y)\n",
    "print(f'Classes: {clf.classes_}')"
   ]
  },
  {
   "cell_type": "markdown",
   "metadata": {},
   "source": [
    "Let's use the trained model (clf) to see how well it predicts on the training data"
   ]
  },
  {
   "cell_type": "code",
   "execution_count": 6,
   "metadata": {},
   "outputs": [
    {
     "name": "stdout",
     "output_type": "stream",
     "text": [
      "Model predicition accuracy on training dataset: 96.26%\n"
     ]
    }
   ],
   "source": [
    "predictions = clf.predict(X)\n",
    "reshapeY = np.reshape(y,(len(y),))\n",
    "compareWithTruth = (predictions==reshapeY)\n",
    "print(f'Model predicition accuracy on training dataset: {sum(compareWithTruth)/float(len(compareWithTruth))*100}%')"
   ]
  },
  {
   "cell_type": "markdown",
   "metadata": {},
   "source": [
    "This is better than the 94% we observed in the Octave logistic regression we built by hand (not surprising). Not bad at all!"
   ]
  },
  {
   "cell_type": "markdown",
   "metadata": {},
   "source": [
    "### Lets compare this performance to a couple more logistic regression models we can find on scikit-learn\n",
    "\n",
    "The first one up is the logistic regression with cross validation. "
   ]
  },
  {
   "cell_type": "code",
   "execution_count": 7,
   "metadata": {},
   "outputs": [
    {
     "name": "stderr",
     "output_type": "stream",
     "text": [
      "/Users/chrisbenson/anaconda3/lib/python3.6/site-packages/sklearn/utils/validation.py:578: DataConversionWarning: A column-vector y was passed when a 1d array was expected. Please change the shape of y to (n_samples, ), for example using ravel().\n",
      "  y = column_or_1d(y, warn=True)\n"
     ]
    },
    {
     "name": "stdout",
     "output_type": "stream",
     "text": [
      "Model predicition accuracy on training dataset: 94.82000000000001%\n"
     ]
    }
   ],
   "source": [
    "from sklearn.linear_model import LogisticRegressionCV\n",
    "# create LogisticRegressionCV model\n",
    "clf_cv = LogisticRegressionCV(cv=5, random_state=0,multi_class='multinomial').fit(X, y)\n",
    "predictions = clf_cv.predict(X)\n",
    "reshapeY = np.reshape(y,(len(y),))\n",
    "compareWithTruth = (predictions==reshapeY)\n",
    "print(f'Model predicition accuracy on training dataset: {sum(compareWithTruth)/float(len(compareWithTruth))*100}%')"
   ]
  },
  {
   "cell_type": "markdown",
   "metadata": {},
   "source": [
    "## Neural Network\n",
    "\n",
    "Let's use scikit-learn to construct a neural network for performance comparison. We will use the same method as the homework where we have 1 hidden layer with 25 nodes and an output layer with 10 nodes."
   ]
  },
  {
   "cell_type": "code",
   "execution_count": 16,
   "metadata": {},
   "outputs": [],
   "source": [
    "from sklearn.neural_network import MLPClassifier"
   ]
  },
  {
   "cell_type": "code",
   "execution_count": 29,
   "metadata": {},
   "outputs": [
    {
     "data": {
      "text/plain": [
       "MLPClassifier(activation='relu', alpha=1e-05, batch_size='auto', beta_1=0.9,\n",
       "       beta_2=0.999, early_stopping=False, epsilon=1e-08,\n",
       "       hidden_layer_sizes=(2, 25), learning_rate='constant',\n",
       "       learning_rate_init=0.001, max_iter=200, momentum=0.9,\n",
       "       nesterovs_momentum=True, power_t=0.5, random_state=1, shuffle=True,\n",
       "       solver='lbfgs', tol=0.0001, validation_fraction=0.1, verbose=False,\n",
       "       warm_start=False)"
      ]
     },
     "execution_count": 29,
     "metadata": {},
     "output_type": "execute_result"
    }
   ],
   "source": [
    "clf = MLPClassifier(solver='lbfgs', alpha=1e-5, hidden_layer_sizes=(2, 25), random_state=1)\n",
    "clf.fit(X, np.reshape(y,(len(y),)))"
   ]
  },
  {
   "cell_type": "code",
   "execution_count": 30,
   "metadata": {},
   "outputs": [
    {
     "name": "stdout",
     "output_type": "stream",
     "text": [
      "Model predicition accuracy on training dataset: 94.82000000000001%\n"
     ]
    }
   ],
   "source": [
    "predictions = clf_cv.predict(X)\n",
    "reshapeY = np.reshape(y,(len(y),))\n",
    "compareWithTruth = (predictions==reshapeY)\n",
    "print(f'Model predicition accuracy on training dataset: {sum(compareWithTruth)/float(len(compareWithTruth))*100}%')"
   ]
  },
  {
   "cell_type": "code",
   "execution_count": null,
   "metadata": {},
   "outputs": [],
   "source": []
  }
 ],
 "metadata": {
  "kernelspec": {
   "display_name": "Python 3",
   "language": "python",
   "name": "python3"
  },
  "language_info": {
   "codemirror_mode": {
    "name": "ipython",
    "version": 3
   },
   "file_extension": ".py",
   "mimetype": "text/x-python",
   "name": "python",
   "nbconvert_exporter": "python",
   "pygments_lexer": "ipython3",
   "version": "3.6.8"
  }
 },
 "nbformat": 4,
 "nbformat_minor": 2
}
